{
 "cells": [
  {
   "cell_type": "code",
   "execution_count": 6,
   "metadata": {},
   "outputs": [],
   "source": [
    "import numpy as np\n",
    "import matplotlib.pyplot as plt"
   ]
  },
  {
   "cell_type": "code",
   "execution_count": 7,
   "metadata": {},
   "outputs": [],
   "source": [
    "class Bandit:\n",
    "    def __init__(self, mu, mu_upper_limit=None):\n",
    "        self.mu = mu\n",
    "        # if mu_upper_limit is None, this will be an Epsilon-Greedy or UCB bandit.\n",
    "        # Else, it would be an optimistic-initial value bandit\n",
    "        self.mean = mu_upper_limit if mu_upper_limit else 0.0\n",
    "        self.N = 1 if mu_upper_limit else 0\n",
    "        \n",
    "    def pull(self):\n",
    "        return np.random.randn() + self.mu\n",
    "    \n",
    "    def update(self, x):\n",
    "        self.N += 1\n",
    "        aN = 1.0/self.N\n",
    "        self.mean = (1.0 - aN)*self.mean + aN*x\n",
    "    \n",
    "    def get_mean(self):\n",
    "        return self.mean"
   ]
  },
  {
   "cell_type": "code",
   "execution_count": 8,
   "metadata": {},
   "outputs": [],
   "source": [
    "def run_experiment(m1, m2, eps=None, mu_upper_limit=None, which_method='epsilon', N_iter=10000):\n",
    "    def _epsilon_greedy():\n",
    "        bandits = [Bandit(m1), Bandit(m2)]\n",
    "        data = np.empty(N_iter)\n",
    "        for i in range(N_iter):\n",
    "            p_ = np.random.random()\n",
    "            if p_ < eps: # Explore an arm (randomly)\n",
    "                which_bandit = np.random.choice(len(bandits))\n",
    "            else: # Explot best arm using their mean value\n",
    "                which_bandit = np.argmax([b.get_mean() for b in bandits])\n",
    "            x = bandits[which_bandit].pull()\n",
    "            bandits[which_bandit].update(x)\n",
    "            data[i] = x\n",
    "            \n",
    "        return data\n",
    "    \n",
    "    def _optimistic_initial_value():\n",
    "        if not mu_upper_limit:\n",
    "            raise ValueError(\"mu_upper_limit cannot be None. Provide an upper limit for sampling mean.\")\n",
    "        bandits = [Bandit(m1, mu_upper_limit), Bandit(m2, mu_upper_limit)]\n",
    "        data = np.empty(N_iter)\n",
    "        for i in range(N_iter):\n",
    "            which_bandit = np.argmax([b.get_mean() for b in bandits])\n",
    "            # Sample a new data from the arm found above\n",
    "            x = bandits[which_bandit].pull()\n",
    "            bandits[which_bandit].update(x)\n",
    "            data[i] = x\n",
    "            \n",
    "        return data\n",
    "    \n",
    "    def _UCB1():\n",
    "        # Chernoff-Hoeffding Bound\n",
    "        # Exponentially decreasing bounds on tail distributions of sums of independent variables\n",
    "        # https://en.wikipedia.org/wiki/Chernoff_bound. \n",
    "        def __compute_UCB(mean, n_total, n_arm):\n",
    "            # to avoid division by zero\n",
    "            pert = 1e-16\n",
    "            return mean + np.sqrt(2.0*np.log(n_total)/(n_arm + pert))\n",
    "\n",
    "        bandits = [Bandit(m1), Bandit(m2)]\n",
    "        data = np.empty(N_iter)\n",
    "        for i in range(N_iter):\n",
    "            # compute upper confidence bound according to Cernoff-Hoeffding formula\n",
    "            ucbs = [__compute_UCB(b.get_mean(), i+1, b.N) for b in bandits]\n",
    "            which_bandit = np.argmax(ucbs)\n",
    "            # Sample a new data from the arm found above\n",
    "            x = bandits[which_bandit].pull()\n",
    "            bandits[which_bandit].update(x)\n",
    "            data[i] = x\n",
    "        return data\n",
    "    \n",
    "    def __cumulative_avg(data):\n",
    "        return np.cumsum(data) / (np.arange(len(data))+1)\n",
    "    \n",
    "    if which_method == 'epsilon':\n",
    "        data = _epsilon_greedy()\n",
    "    elif which_method == 'UCB1':\n",
    "        data = _UCB1()\n",
    "    elif which_method == 'optimistic':\n",
    "        data = _optimistic_initial_value()\n",
    "    else:\n",
    "        print(\"Warning. No method provided. Switching to Epsilon-greedy algorithm. Use 'epsilon', 'UCB1', 'optimistic'.\")\n",
    "        data = _epsilon_greedy()\n",
    "\n",
    "    return __cumulative_avg(data)"
   ]
  },
  {
   "cell_type": "code",
   "execution_count": 16,
   "metadata": {},
   "outputs": [],
   "source": [
    "# np.random.seed(1001)"
   ]
  },
  {
   "cell_type": "code",
   "execution_count": 47,
   "metadata": {},
   "outputs": [],
   "source": [
    "m1 = 0.4\n",
    "m2 = 0.6\n",
    "N_iter = 10000"
   ]
  },
  {
   "cell_type": "code",
   "execution_count": 48,
   "metadata": {},
   "outputs": [],
   "source": [
    "eps = 0.1\n",
    "exp1 = run_experiment(m1=m1, m2=m2, eps=eps, N_iter=N_iter, which_method='epsilon')"
   ]
  },
  {
   "cell_type": "code",
   "execution_count": 49,
   "metadata": {},
   "outputs": [],
   "source": [
    "mu_upper_limit = 100\n",
    "exp2 = run_experiment(m1=m1, m2=m2, N_iter=N_iter, mu_upper_limit=mu_upper_limit, which_method='optimistic')"
   ]
  },
  {
   "cell_type": "code",
   "execution_count": 50,
   "metadata": {},
   "outputs": [],
   "source": [
    "exp3 = run_experiment(m1=m1, m2=m2, N_iter=N_iter, which_method='UCB1')"
   ]
  },
  {
   "cell_type": "code",
   "execution_count": 51,
   "metadata": {},
   "outputs": [
    {
     "name": "stdout",
     "output_type": "stream",
     "text": [
      "0.5991850844549969\n"
     ]
    }
   ],
   "source": [
    "print(exp3[-1])"
   ]
  },
  {
   "cell_type": "code",
   "execution_count": 52,
   "metadata": {},
   "outputs": [
    {
     "data": {
      "image/png": "[encoded data removed]",
      "text/plain": [
       "<Figure size 720x576 with 1 Axes>"
      ]
     },
     "metadata": {},
     "output_type": "display_data"
    }
   ],
   "source": [
    "plt.figure(figsize=(10,8))\n",
    "plt.plot(exp1, label='Epsilon-greedy')\n",
    "plt.plot(exp2, label='Optimistic initial value')\n",
    "plt.plot(exp3, label='UCB1')\n",
    "plt.plot(np.ones(len(exp1))*m1, label='Arm 1', linestyle='dashed')\n",
    "plt.plot(np.ones(len(exp1))*m2, label='Arm 2', linestyle='dashed')\n",
    "plt.ylim([0,1])\n",
    "plt.legend()\n",
    "plt.show()"
   ]
  },
  {
   "cell_type": "code",
   "execution_count": null,
   "metadata": {},
   "outputs": [],
   "source": []
  },
  {
   "cell_type": "code",
   "execution_count": null,
   "metadata": {},
   "outputs": [],
   "source": []
  }
 ],
 "metadata": {
  "kernelspec": {
   "display_name": "Python 2",
   "language": "python",
   "name": "python2"
  },
  "language_info": {
   "codemirror_mode": {
    "name": "ipython",
    "version": 2
   },
   "file_extension": ".py",
   "mimetype": "text/x-python",
   "name": "python",
   "nbconvert_exporter": "python",
   "pygments_lexer": "ipython2",
   "version": "2.7.10"
  }
 },
 "nbformat": 4,
 "nbformat_minor": 2
}
